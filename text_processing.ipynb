{
 "cells": [
  {
   "cell_type": "markdown",
   "metadata": {},
   "source": [
    "Importing Libraries"
   ]
  },
  {
   "cell_type": "code",
   "execution_count": 18,
   "metadata": {},
   "outputs": [],
   "source": [
    "import os\n",
    "import docx\n",
    "import pdfplumber\n",
    "import nltk\n",
    "from nltk.tokenize import word_tokenize\n",
    "from nltk.corpus import stopwords\n",
    "from nltk.stem import WordNetLemmatizer"
   ]
  },
  {
   "cell_type": "markdown",
   "metadata": {},
   "source": [
    "Folder Containing the files"
   ]
  },
  {
   "cell_type": "code",
   "execution_count": null,
   "metadata": {},
   "outputs": [],
   "source": [
    "INPUT_FOLDER = \"input_files\""
   ]
  },
  {
   "cell_type": "markdown",
   "metadata": {},
   "source": [
    "Function to Read .docx Files"
   ]
  },
  {
   "cell_type": "code",
   "execution_count": 20,
   "metadata": {},
   "outputs": [],
   "source": [
    "def read_docx(file_path):\n",
    "    doc = docx.Document(file_path)    # Open the .docx file\n",
    "    full_text = []                    # List to store paragraphs\n",
    "    for para in doc.paragraphs:       # Iterate through each paragraph\n",
    "        full_text.append(para.text)   # Append text to the list\n",
    "    return \"\\n\".join(full_text)       # Join paragraphs into a single text block /n.join\n"
   ]
  },
  {
   "cell_type": "markdown",
   "metadata": {},
   "source": [
    "Function to Read .pdf Files"
   ]
  },
  {
   "cell_type": "code",
   "execution_count": 21,
   "metadata": {},
   "outputs": [],
   "source": [
    "def read_pdf(file_path):\n",
    "    text = \"\"\n",
    "    with pdfplumber.open(file_path) as pdf:      # Open the PDF file\n",
    "        for page in pdf.pages:                   # Iterate through each page\n",
    "            text += page.extract_text() + \"\\n\"   # Extract text and add newline\n",
    "    return text\n"
   ]
  },
  {
   "cell_type": "markdown",
   "metadata": {},
   "source": [
    "Function to Read .txt Files"
   ]
  },
  {
   "cell_type": "code",
   "execution_count": 22,
   "metadata": {},
   "outputs": [],
   "source": [
    "# Function to read text from a TXT file\n",
    "def read_txt(file_path):\n",
    "    with open(file_path, \"r\", encoding=\"utf-8\") as file:\n",
    "        return file.read()"
   ]
  },
  {
   "cell_type": "markdown",
   "metadata": {},
   "source": [
    "Function to Read files."
   ]
  },
  {
   "cell_type": "code",
   "execution_count": 23,
   "metadata": {},
   "outputs": [],
   "source": [
    "def extract_text(file_path):\n",
    "    if file_path.endswith(\".docx\"):   # Check if the file is .docx\n",
    "        return read_docx(file_path)\n",
    "    elif file_path.endswith(\".pdf\"):  # Check if the file is .pdf\n",
    "        return read_pdf(file_path)\n",
    "    else:\n",
    "        return \"Unsupported file format.\"\n"
   ]
  },
  {
   "cell_type": "markdown",
   "metadata": {},
   "source": [
    "TEXT PRE - PROCESSING\n",
    "\n",
    "Tokenization (Splitting Text into Words)"
   ]
  },
  {
   "cell_type": "code",
   "execution_count": 24,
   "metadata": {},
   "outputs": [],
   "source": [
    "def tokenize_text(text):\n",
    "    return word_tokenize(text.lower())  # Convert to lowercase and split into words"
   ]
  },
  {
   "cell_type": "markdown",
   "metadata": {},
   "source": [
    "Remove Stopwords (Unimportant Words)"
   ]
  },
  {
   "cell_type": "code",
   "execution_count": 25,
   "metadata": {},
   "outputs": [],
   "source": [
    "def remove_stopwords(tokens):\n",
    "    stop_words = set(stopwords.words(\"english\"))                # Load stopwords\n",
    "    return [word for word in tokens if word not in stop_words]  # Remove stopwords"
   ]
  },
  {
   "cell_type": "code",
   "execution_count": 26,
   "metadata": {},
   "outputs": [],
   "source": [
    "import string\n",
    "\n",
    "def remove_punctuation(tokens):\n",
    "    return [word for word in tokens if word not in string.punctuation]  # Remove punctuation marks\n"
   ]
  },
  {
   "cell_type": "markdown",
   "metadata": {},
   "source": [
    "Lemmatization (Convert to Base Form)"
   ]
  },
  {
   "cell_type": "code",
   "execution_count": 27,
   "metadata": {},
   "outputs": [],
   "source": [
    "from nltk.stem import WordNetLemmatizer\n",
    "\n",
    "def lemmatize_tokens(tokens):\n",
    "    lemmatizer = WordNetLemmatizer()                        # Initialize lemmatizer\n",
    "    return [lemmatizer.lemmatize(word) for word in tokens]  # Convert words to base form"
   ]
  },
  {
   "cell_type": "markdown",
   "metadata": {},
   "source": [
    "Text Preprocessing Pipeline"
   ]
  },
  {
   "cell_type": "code",
   "execution_count": 28,
   "metadata": {},
   "outputs": [],
   "source": [
    "def preprocess_text(text):\n",
    "    tokens = tokenize_text(text)\n",
    "    tokens = remove_stopwords(tokens) \n",
    "    tokens = remove_punctuation(tokens)\n",
    "    tokens = lemmatize_tokens(tokens)\n",
    "    return tokens\n"
   ]
  },
  {
   "cell_type": "markdown",
   "metadata": {},
   "source": [
    "Function to load documents from a folder"
   ]
  },
  {
   "cell_type": "code",
   "execution_count": 29,
   "metadata": {},
   "outputs": [],
   "source": [
    "def load_documents(folder_path):\n",
    "    documents = []\n",
    "    for filename in os.listdir(folder_path):\n",
    "        file_path = os.path.join(folder_path, filename)\n",
    "\n",
    "        # Extract text based on file type\n",
    "        if filename.endswith(\".txt\"):\n",
    "            text = read_txt(file_path)\n",
    "        elif filename.endswith(\".docx\"):\n",
    "            text = read_docx(file_path)\n",
    "        elif filename.endswith(\".pdf\"):\n",
    "            text = read_pdf(file_path)\n",
    "        else:\n",
    "            continue  \n",
    "\n",
    "        documents.append((filename, text))   # Store (filename, text)\n",
    "    return documents"
   ]
  },
  {
   "cell_type": "markdown",
   "metadata": {},
   "source": [
    "Program Execution"
   ]
  },
  {
   "cell_type": "code",
   "execution_count": 31,
   "metadata": {},
   "outputs": [
    {
     "name": "stdout",
     "output_type": "stream",
     "text": [
      "\n",
      "  Document : CCNLP readmy.docx\n",
      " --Preprocessed Text : ['input', 'user', 'upload', 'multiple', 'document', 'processing', 'extract', 'text', 'document', 'convert', 'text', 'meaningful', 'representation', 'cluster', 'document', 'based', 'similarity', 'generate', 'summary', 'cluster', 'output', 'clustered', 'document', 'summary', 'report', 'group', 'web', 'interface', 'user-friendly', 'ui', 'document', 'upload', 'retrieval', 'backend', 'python', 'fastapi', 'handling', 'request', 'efficiently', 'nlp', 'ml', 'nltk', 'text', 'processing', 'word', 'embeddings', 'vectorization', 'k-means', 'hierarchical', 'clustering', 'dbscan', 'clustering', 'provide', 'great', 'result', 'bert', 'textrank', 'summarization', 'database', 'postgresql', 'document', 'storage', 'retrieval', 'frontend', 'react.js', 'next.js', 'responsive', 'ui', 'requirement', 'installation', 'python-docx', '→', 'extracting', 'text', '.docx', 'file', 'microsoft', 'word', 'pdfplumber', '→', 'extracting', 'text', '.pdf', 'file', 'nltk', '→', 'natural', 'language', 'processing', 'task', 'step', '1', 'pip', 'install', 'python-docx', 'pdfplumber', 'nltk', 'library', 'o', '→', 'help', 'handling', 'file', 'path', 'docx', '→', 'read', '.docx', 'file', 'pdfplumber', '→', 'read', '.pdf', 'file', 'nltk.tokenize.word_tokenize', '→', 'split', 'text', 'word', 'nltk.corpus.stopwords', '→', 'contains', 'common', 'word', 'removed', 'like', '``', \"''\", '``', \"''\", 'nltk.stem.wordnetlemmatizer', '→', 'convert', 'word', 'root', 'form', 'e.g.', '``', 'running', \"''\", '→', '``', 'run', \"''\"]\n",
      "\n",
      "  Document : NLP_synopsis.docx\n",
      " --Preprocessed Text : ['natural', 'language', 'processing', 'mini', 'project', 'synopsis', 'group', 'member', 'ty', 'btech', 'cse', '–', 'panel', 'c', '–', 'batch', 'c1', 'aditi', 'singh', '–', '1032221947', '–', '09', 'gaganjot', 'kaur', 'badwal', '–', '1032222170', '–', '29', 'nimisha', 'manna', 'james', '–', '1032222171', '–', '30', 'title', 'document', 'clustering', 'summarization', 'website', 'abstract', 'time', 'rapidly', 'increasing', 'digital', 'content', 'managing', 'comprehending', 'significant', 'amount', 'unstructured', 'text', 'data', 'present', 'major', 'challenge', 'initiative', 'suggests', 'online', 'platform', 'clustering', 'summarizing', 'diverse', 'document', 'utilizing', 'natural', 'language', 'processing', 'nlp', 'method', 'automatically', 'categorize', 'condense', 'document', 'according', 'content', 'similarity', 'platform', 'enables', 'user', 'upload', 'several', 'document', 'doc', 'format', 'subsequently', 'analyzed', 'using', 'text', 'extraction', 'vectorization', 'clustering', 'method', 'document', 'organized', 'separate', 'folder', 'according', 'semantic', 'similarity', 'making', 'sure', 'related', 'content', 'classified', 'together', 'clustering', 'finished', 'system', 'creates', 'extra', 'summary', 'file', 'every', 'cluster', 'emphasizing', 'shared', 'theme', 'important', 'similarity', 'distinctive', 'difference', 'among', 'document', 'category', 'allows', 'user', 'swiftly', 'understand', 'connection', 'document', 'cluster', 'set', 'apart', 'suggested', 'approach', 'utilizes', 'machine', 'learning', 'deep', 'learning', 'nlp', 'model', 'analyzing', 'text', 'embedding', 'document', 'clustering', 'guaranteeing', 'high', 'precision', 'similarity', 'identification', 'system', 'offer', 'effective', 'method', 'researcher', 'analyst', 'professional', 'structure', 'examine', 'derive', 'significant', 'insight', 'extensive', 'group', 'diverse', 'textual', 'information', 'objective', 'automated', 'document', 'clustering', '–', 'categorize', 'heterogeneous', 'document', 'meaningful', 'cluster', 'based', 'content', 'similarity', 'summarization', 'similarity', 'difference', 'analysis', '–', 'generate', 'summary', 'highlighting', 'common', 'theme', 'within', 'cluster', 'unique', 'aspect', 'individual', 'document', 'user-friendly', 'web', 'interface', '–', 'provide', 'intuitive', 'platform', 'document', 'upload', 'clustering', 'retrieval', 'easy', 'access', 'summary', 'literature', 'survey', 'system', 'flow', 'diagram']\n"
     ]
    }
   ],
   "source": [
    "if __name__ == \"__main__\":\n",
    "    # Load and process all documents\n",
    "    documents = load_documents(INPUT_FOLDER)\n",
    "\n",
    "    # Print preprocessed content for each document\n",
    "    for filename, text in documents:\n",
    "        print(f\"\\n  Document : {filename}\")\n",
    "        preprocessed_text = preprocess_text(text)\n",
    "        print(f\" --Preprocessed Text : {preprocessed_text}\")\n"
   ]
  }
 ],
 "metadata": {
  "kernelspec": {
   "display_name": "Python 3",
   "language": "python",
   "name": "python3"
  },
  "language_info": {
   "codemirror_mode": {
    "name": "ipython",
    "version": 3
   },
   "file_extension": ".py",
   "mimetype": "text/x-python",
   "name": "python",
   "nbconvert_exporter": "python",
   "pygments_lexer": "ipython3",
   "version": "3.12.1"
  }
 },
 "nbformat": 4,
 "nbformat_minor": 2
}
